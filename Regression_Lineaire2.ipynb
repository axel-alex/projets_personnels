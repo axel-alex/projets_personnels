{
 "cells": [
  {
   "cell_type": "markdown",
   "id": "ff412d37",
   "metadata": {},
   "source": [
    "## Importation des librairies"
   ]
  },
  {
   "cell_type": "code",
   "execution_count": 1,
   "id": "fb4a8e47",
   "metadata": {},
   "outputs": [],
   "source": [
    "import numpy as np\n",
    "import pandas as pd\n",
    "import matplotlib.pyplot as plt\n",
    "from sklearn.model_selection import train_test_split\n",
    "from sklearn import linear_model"
   ]
  },
  {
   "cell_type": "markdown",
   "id": "b7246863",
   "metadata": {},
   "source": [
    "## Importation du data set et visualisation"
   ]
  },
  {
   "cell_type": "code",
   "execution_count": 2,
   "id": "8100e7f9",
   "metadata": {},
   "outputs": [
    {
     "name": "stdout",
     "output_type": "stream",
     "text": [
      "     price  surface  arrondissement\n",
      "0     1820    46.10             1.0\n",
      "1     1750    41.00             1.0\n",
      "2     1900    55.00             1.0\n",
      "3     1950    46.00             1.0\n",
      "4     1950    49.00             1.0\n",
      "..     ...      ...             ...\n",
      "822    850    35.00            10.0\n",
      "823    700    10.00            10.0\n",
      "824   1280    34.00            10.0\n",
      "825   1545    65.00            10.0\n",
      "826   1000    21.43            10.0\n",
      "\n",
      "[827 rows x 3 columns]\n"
     ]
    },
    {
     "data": {
      "image/png": "[encoded data removed]",
      "text/plain": [
       "<Figure size 432x288 with 1 Axes>"
      ]
     },
     "metadata": {
      "needs_background": "light"
     },
     "output_type": "display_data"
    },
    {
     "data": {
      "image/png": "[encoded data removed]",
      "text/plain": [
       "<Figure size 432x288 with 1 Axes>"
      ]
     },
     "metadata": {
      "needs_background": "light"
     },
     "output_type": "display_data"
    }
   ],
   "source": [
    "#Importation du data set\n",
    "data=pd.read_csv('house_data.csv')\n",
    "print(data)\n",
    "\n",
    "#Visualisation\n",
    "#Prix en fonction de la surface\n",
    "plt.plot(data['surface'], data['price'],'ro', markersize=4)\n",
    "plt.show()#On constate que les prix inférieurs à 15000 semblent varier de manière linéaire par rapport à la surface\n",
    "\n",
    "#Prix en fonction de l'arrondissement\n",
    "plt.plot(data['arrondissement'], data['price'],'ro', markersize=4)\n",
    "plt.show()\n",
    "#Les prix sont relativements similaires à chaque arrondissement avec quelques execptions dans les arrondissements 1 et 4\n",
    "#On constate que l'arrondissement n'a pas d'impact immédiat surle prix, il permet de catégoriser le logement"
   ]
  },
  {
   "cell_type": "markdown",
   "id": "314fd89b",
   "metadata": {},
   "source": [
    "## Exploration"
   ]
  },
  {
   "cell_type": "markdown",
   "id": "359c5087",
   "metadata": {},
   "source": [
    "###### L'arrondissiment sera utilisé comme colonne de catégorisation.\n",
    "Pour rendre cela effectif, nous utiliserons l'algorithme du One hot encoding.\n",
    "C'est-à-dire qu'à chaque ligne du data frame sera affectée un arrondissement."
   ]
  },
  {
   "cell_type": "code",
   "execution_count": 3,
   "id": "d50e2e7e",
   "metadata": {},
   "outputs": [
    {
     "name": "stdout",
     "output_type": "stream",
     "text": [
      "     price  surface  1.0  2.0  3.0  4.0  10.0\n",
      "0     1820    46.10    1    0    0    0     0\n",
      "1     1750    41.00    1    0    0    0     0\n",
      "2     1900    55.00    1    0    0    0     0\n",
      "3     1950    46.00    1    0    0    0     0\n",
      "4     1950    49.00    1    0    0    0     0\n",
      "..     ...      ...  ...  ...  ...  ...   ...\n",
      "822    850    35.00    0    0    0    0     1\n",
      "823    700    10.00    0    0    0    0     1\n",
      "824   1280    34.00    0    0    0    0     1\n",
      "825   1545    65.00    0    0    0    0     1\n",
      "826   1000    21.43    0    0    0    0     1\n",
      "\n",
      "[827 rows x 7 columns]\n",
      "Index(['price', 'surface', 1.0, 2.0, 3.0, 4.0, 10.0], dtype='object')\n"
     ]
    }
   ],
   "source": [
    "arr=pd.get_dummies(data.arrondissement)\n",
    "del data['arrondissement']\n",
    "data1=data.join(arr)\n",
    "print(data1)\n",
    "print(data1.columns)"
   ]
  },
  {
   "cell_type": "markdown",
   "id": "745f55f7",
   "metadata": {},
   "source": [
    "## Modélisation\n",
    "Comptenu de l'évolution linéaire du prix en fonction de la fonction de la surface,\n",
    "nous utiliserons un algorithme de régression linéaire avec la surface et les arrondissements comme données d'entrée"
   ]
  },
  {
   "cell_type": "code",
   "execution_count": 10,
   "id": "8206ca9e",
   "metadata": {},
   "outputs": [
    {
     "name": "stdout",
     "output_type": "stream",
     "text": [
      "     price  surface  arr_1  arr_2  arr_3  arr_4  arr_10\n",
      "0     1820    46.10      1      0      0      0       0\n",
      "1     1750    41.00      1      0      0      0       0\n",
      "2     1900    55.00      1      0      0      0       0\n",
      "3     1950    46.00      1      0      0      0       0\n",
      "4     1950    49.00      1      0      0      0       0\n",
      "..     ...      ...    ...    ...    ...    ...     ...\n",
      "822    850    35.00      0      0      0      0       1\n",
      "823    700    10.00      0      0      0      0       1\n",
      "824   1280    34.00      0      0      0      0       1\n",
      "825   1545    65.00      0      0      0      0       1\n",
      "826   1000    21.43      0      0      0      0       1\n",
      "\n",
      "[814 rows x 7 columns]\n",
      "     surface  arr_1  arr_2  arr_3  arr_4  arr_10\n",
      "307    51.00      0      0      1      0       0\n",
      "639    35.00      0      0      0      1       0\n",
      "290    18.00      0      1      0      0       0\n",
      "622    33.00      0      0      0      1       0\n",
      "247    34.00      0      1      0      0       0\n",
      "..       ...    ...    ...    ...    ...     ...\n",
      "380    35.00      0      0      1      0       0\n",
      "773    22.00      0      0      0      0       1\n",
      "412    45.19      0      0      1      0       0\n",
      "590   117.37      0      0      0      1       0\n",
      "502   124.31      0      0      0      1       0\n",
      "\n",
      "[163 rows x 6 columns]\n"
     ]
    },
    {
     "name": "stderr",
     "output_type": "stream",
     "text": [
      "C:\\Users\\daoud\\AppData\\Local\\Temp\\ipykernel_7112\\1293757087.py:3: SettingWithCopyWarning: \n",
      "A value is trying to be set on a copy of a slice from a DataFrame\n",
      "\n",
      "See the caveats in the documentation: https://pandas.pydata.org/pandas-docs/stable/user_guide/indexing.html#returning-a-view-versus-a-copy\n",
      "  data2.dropna(inplace=True)#Suppression des valeurs inutilisables\n",
      "C:\\Users\\daoud\\AppData\\Local\\Temp\\ipykernel_7112\\1293757087.py:4: SettingWithCopyWarning: \n",
      "A value is trying to be set on a copy of a slice from a DataFrame\n",
      "\n",
      "See the caveats in the documentation: https://pandas.pydata.org/pandas-docs/stable/user_guide/indexing.html#returning-a-view-versus-a-copy\n",
      "  data2.rename(columns={1.0:'arr_1', 2.0:'arr_2', 3.0:'arr_3', 4.0:'arr_4', 10.0:'arr_10'}, inplace=True)#Renommage des colonnes\n"
     ]
    }
   ],
   "source": [
    "#Nettoyage du data set\n",
    "data2=data1[data1.price<=10000] #On ne concerve que les loyers dont le prix <= 10 000\n",
    "data2.dropna(inplace=True)#Suppression des valeurs inutilisables\n",
    "data2.rename(columns={1.0:'arr_1', 2.0:'arr_2', 3.0:'arr_3', 4.0:'arr_4', 10.0:'arr_10'}, inplace=True)#Renommage des colonnes\n",
    "print(data2)\n",
    "\n",
    "#Sélection de la variable d'entrée\n",
    "\n",
    "X=data2[['surface','arr_1','arr_2','arr_3','arr_4','arr_10']]\n",
    "\n",
    "#Sélection de la variable de sortie\n",
    "Y=data2['price']\n",
    "\n",
    "#Séparation du training set et du testing set\n",
    "Xtrain, Xtest, Ytrain, Ytest = train_test_split(X, Y, train_size=0.8)\n",
    "\n",
    "#Utilisation du modèle de regression linéaire\n",
    "regr=linear_model.LinearRegression()\n",
    "regr.fit(Xtrain,Ytrain)\n",
    "print(Xtest)\n",
    "\n",
    "#Prédictions\n",
    "regrPredict=regr.predict(Xtest)"
   ]
  },
  {
   "cell_type": "markdown",
   "id": "7a55f467",
   "metadata": {},
   "source": [
    "## Observation des prédictions par rapport à la réalité"
   ]
  },
  {
   "cell_type": "code",
   "execution_count": 15,
   "id": "7dcc75ba",
   "metadata": {},
   "outputs": [
    {
     "data": {
      "image/png": "[encoded data removed]",
      "text/plain": [
       "<Figure size 432x288 with 1 Axes>"
      ]
     },
     "metadata": {
      "needs_background": "light"
     },
     "output_type": "display_data"
    }
   ],
   "source": [
    "plt.plot(Xtest['surface'], Ytest, 'ro')\n",
    "plt.plot(Xtest['surface'], regrPredict,color=\"skyblue\")\n",
    "plt.show()"
   ]
  },
  {
   "cell_type": "markdown",
   "id": "0a7bddd9",
   "metadata": {},
   "source": [
    "## Calcul de l'erreur"
   ]
  },
  {
   "cell_type": "code",
   "execution_count": 20,
   "id": "60e85956",
   "metadata": {},
   "outputs": [
    {
     "name": "stdout",
     "output_type": "stream",
     "text": [
      "0.17940895379018384\n",
      "0.8205910462098162\n"
     ]
    }
   ],
   "source": [
    "score = 1-regr.score(Xtest, Ytest)\n",
    "print(score)#Distance Euclidienne\n",
    "\n",
    "#Calcul de l'erreur quadratique\n",
    "def sumsq(x,y):\n",
    "    return sum((x - y)**2)\n",
    "\n",
    "def r2score(pred, target):\n",
    "    return 1 - sumsq(pred, target) / sumsq(target, np.mean(target))\n",
    "\n",
    "score_bl = r2score(regrPredict, Ytest)\n",
    "\n",
    "print(score_bl)"
   ]
  },
  {
   "cell_type": "markdown",
   "id": "042fe4d2",
   "metadata": {},
   "source": [
    "#### Méthode2 : Travailler en utilisant la surface et l'arrondissement comme données d'entrées."
   ]
  }
 ],
 "metadata": {
  "kernelspec": {
   "display_name": "Python 3 (ipykernel)",
   "language": "python",
   "name": "python3"
  },
  "language_info": {
   "codemirror_mode": {
    "name": "ipython",
    "version": 3
   },
   "file_extension": ".py",
   "mimetype": "text/x-python",
   "name": "python",
   "nbconvert_exporter": "python",
   "pygments_lexer": "ipython3",
   "version": "3.9.12"
  }
 },
 "nbformat": 4,
 "nbformat_minor": 5
}
